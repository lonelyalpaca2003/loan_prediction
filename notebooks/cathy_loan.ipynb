{
 "cells": [
  {
   "cell_type": "code",
   "execution_count": 1,
   "id": "ed89189a-8759-45f2-a34e-87b9d1c2126c",
   "metadata": {},
   "outputs": [],
   "source": [
    "import pandas as pd\n",
    "import numpy as np\n",
    "import matplotlib as plt\n",
    "import sklearn\n",
    "import seaborn as sns\n"
   ]
  },
  {
   "cell_type": "code",
   "execution_count": 2,
   "id": "01062118-2bb8-4fe6-b2f4-e1aab77359e9",
   "metadata": {},
   "outputs": [
    {
     "data": {
      "text/html": [
       "<div>\n",
       "<style scoped>\n",
       "    .dataframe tbody tr th:only-of-type {\n",
       "        vertical-align: middle;\n",
       "    }\n",
       "\n",
       "    .dataframe tbody tr th {\n",
       "        vertical-align: top;\n",
       "    }\n",
       "\n",
       "    .dataframe thead th {\n",
       "        text-align: right;\n",
       "    }\n",
       "</style>\n",
       "<table border=\"1\" class=\"dataframe\">\n",
       "  <thead>\n",
       "    <tr style=\"text-align: right;\">\n",
       "      <th></th>\n",
       "      <th>id</th>\n",
       "      <th>person_age</th>\n",
       "      <th>person_income</th>\n",
       "      <th>person_home_ownership</th>\n",
       "      <th>person_emp_length</th>\n",
       "      <th>loan_intent</th>\n",
       "      <th>loan_grade</th>\n",
       "      <th>loan_amnt</th>\n",
       "      <th>loan_int_rate</th>\n",
       "      <th>loan_percent_income</th>\n",
       "      <th>cb_person_default_on_file</th>\n",
       "      <th>cb_person_cred_hist_length</th>\n",
       "      <th>loan_status</th>\n",
       "    </tr>\n",
       "  </thead>\n",
       "  <tbody>\n",
       "    <tr>\n",
       "      <th>0</th>\n",
       "      <td>0</td>\n",
       "      <td>37</td>\n",
       "      <td>35000</td>\n",
       "      <td>RENT</td>\n",
       "      <td>0.0</td>\n",
       "      <td>EDUCATION</td>\n",
       "      <td>B</td>\n",
       "      <td>6000</td>\n",
       "      <td>11.49</td>\n",
       "      <td>0.17</td>\n",
       "      <td>N</td>\n",
       "      <td>14</td>\n",
       "      <td>0</td>\n",
       "    </tr>\n",
       "    <tr>\n",
       "      <th>1</th>\n",
       "      <td>1</td>\n",
       "      <td>22</td>\n",
       "      <td>56000</td>\n",
       "      <td>OWN</td>\n",
       "      <td>6.0</td>\n",
       "      <td>MEDICAL</td>\n",
       "      <td>C</td>\n",
       "      <td>4000</td>\n",
       "      <td>13.35</td>\n",
       "      <td>0.07</td>\n",
       "      <td>N</td>\n",
       "      <td>2</td>\n",
       "      <td>0</td>\n",
       "    </tr>\n",
       "    <tr>\n",
       "      <th>2</th>\n",
       "      <td>2</td>\n",
       "      <td>29</td>\n",
       "      <td>28800</td>\n",
       "      <td>OWN</td>\n",
       "      <td>8.0</td>\n",
       "      <td>PERSONAL</td>\n",
       "      <td>A</td>\n",
       "      <td>6000</td>\n",
       "      <td>8.90</td>\n",
       "      <td>0.21</td>\n",
       "      <td>N</td>\n",
       "      <td>10</td>\n",
       "      <td>0</td>\n",
       "    </tr>\n",
       "  </tbody>\n",
       "</table>\n",
       "</div>"
      ],
      "text/plain": [
       "   id  person_age  person_income person_home_ownership  person_emp_length  \\\n",
       "0   0          37          35000                  RENT                0.0   \n",
       "1   1          22          56000                   OWN                6.0   \n",
       "2   2          29          28800                   OWN                8.0   \n",
       "\n",
       "  loan_intent loan_grade  loan_amnt  loan_int_rate  loan_percent_income  \\\n",
       "0   EDUCATION          B       6000          11.49                 0.17   \n",
       "1     MEDICAL          C       4000          13.35                 0.07   \n",
       "2    PERSONAL          A       6000           8.90                 0.21   \n",
       "\n",
       "  cb_person_default_on_file  cb_person_cred_hist_length  loan_status  \n",
       "0                         N                          14            0  \n",
       "1                         N                           2            0  \n",
       "2                         N                          10            0  "
      ]
     },
     "execution_count": 2,
     "metadata": {},
     "output_type": "execute_result"
    }
   ],
   "source": [
    "df = pd.read_csv('../data/train.csv')\n",
    "df.head(3)"
   ]
  },
  {
   "cell_type": "code",
   "execution_count": 3,
   "id": "cbca2da6-29dc-47c1-91b1-d6bd99485878",
   "metadata": {},
   "outputs": [
    {
     "name": "stdout",
     "output_type": "stream",
     "text": [
      "<class 'pandas.core.frame.DataFrame'>\n",
      "RangeIndex: 58645 entries, 0 to 58644\n",
      "Data columns (total 13 columns):\n",
      " #   Column                      Non-Null Count  Dtype  \n",
      "---  ------                      --------------  -----  \n",
      " 0   id                          58645 non-null  int64  \n",
      " 1   person_age                  58645 non-null  int64  \n",
      " 2   person_income               58645 non-null  int64  \n",
      " 3   person_home_ownership       58645 non-null  object \n",
      " 4   person_emp_length           58645 non-null  float64\n",
      " 5   loan_intent                 58645 non-null  object \n",
      " 6   loan_grade                  58645 non-null  object \n",
      " 7   loan_amnt                   58645 non-null  int64  \n",
      " 8   loan_int_rate               58645 non-null  float64\n",
      " 9   loan_percent_income         58645 non-null  float64\n",
      " 10  cb_person_default_on_file   58645 non-null  object \n",
      " 11  cb_person_cred_hist_length  58645 non-null  int64  \n",
      " 12  loan_status                 58645 non-null  int64  \n",
      "dtypes: float64(3), int64(6), object(4)\n",
      "memory usage: 5.8+ MB\n"
     ]
    }
   ],
   "source": [
    "  df.info()"
   ]
  },
  {
   "cell_type": "code",
   "execution_count": 4,
   "id": "56ba1c68-1b15-4ead-8900-c5f385707c2e",
   "metadata": {},
   "outputs": [
    {
     "data": {
      "text/plain": [
       "id                            0\n",
       "person_age                    0\n",
       "person_income                 0\n",
       "person_home_ownership         0\n",
       "person_emp_length             0\n",
       "loan_intent                   0\n",
       "loan_grade                    0\n",
       "loan_amnt                     0\n",
       "loan_int_rate                 0\n",
       "loan_percent_income           0\n",
       "cb_person_default_on_file     0\n",
       "cb_person_cred_hist_length    0\n",
       "loan_status                   0\n",
       "dtype: int64"
      ]
     },
     "execution_count": 4,
     "metadata": {},
     "output_type": "execute_result"
    }
   ],
   "source": [
    "df.isna().sum()"
   ]
  },
  {
   "cell_type": "code",
   "execution_count": 5,
   "id": "11235462-0430-4c95-bf4b-0f029eed6a77",
   "metadata": {},
   "outputs": [
    {
     "data": {
      "text/plain": [
       "0"
      ]
     },
     "execution_count": 5,
     "metadata": {},
     "output_type": "execute_result"
    }
   ],
   "source": [
    "df.duplicated().sum()"
   ]
  },
  {
   "cell_type": "code",
   "execution_count": 6,
   "id": "9810b4f6-2955-4d00-95a1-1b06314c1149",
   "metadata": {},
   "outputs": [
    {
     "data": {
      "text/html": [
       "<div>\n",
       "<style scoped>\n",
       "    .dataframe tbody tr th:only-of-type {\n",
       "        vertical-align: middle;\n",
       "    }\n",
       "\n",
       "    .dataframe tbody tr th {\n",
       "        vertical-align: top;\n",
       "    }\n",
       "\n",
       "    .dataframe thead th {\n",
       "        text-align: right;\n",
       "    }\n",
       "</style>\n",
       "<table border=\"1\" class=\"dataframe\">\n",
       "  <thead>\n",
       "    <tr style=\"text-align: right;\">\n",
       "      <th></th>\n",
       "      <th>id</th>\n",
       "      <th>person_age</th>\n",
       "      <th>person_income</th>\n",
       "      <th>person_emp_length</th>\n",
       "      <th>loan_amnt</th>\n",
       "      <th>loan_int_rate</th>\n",
       "      <th>loan_percent_income</th>\n",
       "      <th>cb_person_cred_hist_length</th>\n",
       "      <th>loan_status</th>\n",
       "    </tr>\n",
       "  </thead>\n",
       "  <tbody>\n",
       "    <tr>\n",
       "      <th>count</th>\n",
       "      <td>58645.000000</td>\n",
       "      <td>58645.000000</td>\n",
       "      <td>5.864500e+04</td>\n",
       "      <td>58645.000000</td>\n",
       "      <td>58645.000000</td>\n",
       "      <td>58645.000000</td>\n",
       "      <td>58645.000000</td>\n",
       "      <td>58645.000000</td>\n",
       "      <td>58645.000000</td>\n",
       "    </tr>\n",
       "    <tr>\n",
       "      <th>mean</th>\n",
       "      <td>29322.000000</td>\n",
       "      <td>27.550857</td>\n",
       "      <td>6.404617e+04</td>\n",
       "      <td>4.701015</td>\n",
       "      <td>9217.556518</td>\n",
       "      <td>10.677874</td>\n",
       "      <td>0.159238</td>\n",
       "      <td>5.813556</td>\n",
       "      <td>0.142382</td>\n",
       "    </tr>\n",
       "    <tr>\n",
       "      <th>std</th>\n",
       "      <td>16929.497605</td>\n",
       "      <td>6.033216</td>\n",
       "      <td>3.793111e+04</td>\n",
       "      <td>3.959784</td>\n",
       "      <td>5563.807384</td>\n",
       "      <td>3.034697</td>\n",
       "      <td>0.091692</td>\n",
       "      <td>4.029196</td>\n",
       "      <td>0.349445</td>\n",
       "    </tr>\n",
       "    <tr>\n",
       "      <th>min</th>\n",
       "      <td>0.000000</td>\n",
       "      <td>20.000000</td>\n",
       "      <td>4.200000e+03</td>\n",
       "      <td>0.000000</td>\n",
       "      <td>500.000000</td>\n",
       "      <td>5.420000</td>\n",
       "      <td>0.000000</td>\n",
       "      <td>2.000000</td>\n",
       "      <td>0.000000</td>\n",
       "    </tr>\n",
       "    <tr>\n",
       "      <th>25%</th>\n",
       "      <td>14661.000000</td>\n",
       "      <td>23.000000</td>\n",
       "      <td>4.200000e+04</td>\n",
       "      <td>2.000000</td>\n",
       "      <td>5000.000000</td>\n",
       "      <td>7.880000</td>\n",
       "      <td>0.090000</td>\n",
       "      <td>3.000000</td>\n",
       "      <td>0.000000</td>\n",
       "    </tr>\n",
       "    <tr>\n",
       "      <th>50%</th>\n",
       "      <td>29322.000000</td>\n",
       "      <td>26.000000</td>\n",
       "      <td>5.800000e+04</td>\n",
       "      <td>4.000000</td>\n",
       "      <td>8000.000000</td>\n",
       "      <td>10.750000</td>\n",
       "      <td>0.140000</td>\n",
       "      <td>4.000000</td>\n",
       "      <td>0.000000</td>\n",
       "    </tr>\n",
       "    <tr>\n",
       "      <th>75%</th>\n",
       "      <td>43983.000000</td>\n",
       "      <td>30.000000</td>\n",
       "      <td>7.560000e+04</td>\n",
       "      <td>7.000000</td>\n",
       "      <td>12000.000000</td>\n",
       "      <td>12.990000</td>\n",
       "      <td>0.210000</td>\n",
       "      <td>8.000000</td>\n",
       "      <td>0.000000</td>\n",
       "    </tr>\n",
       "    <tr>\n",
       "      <th>max</th>\n",
       "      <td>58644.000000</td>\n",
       "      <td>123.000000</td>\n",
       "      <td>1.900000e+06</td>\n",
       "      <td>123.000000</td>\n",
       "      <td>35000.000000</td>\n",
       "      <td>23.220000</td>\n",
       "      <td>0.830000</td>\n",
       "      <td>30.000000</td>\n",
       "      <td>1.000000</td>\n",
       "    </tr>\n",
       "  </tbody>\n",
       "</table>\n",
       "</div>"
      ],
      "text/plain": [
       "                 id    person_age  person_income  person_emp_length  \\\n",
       "count  58645.000000  58645.000000   5.864500e+04       58645.000000   \n",
       "mean   29322.000000     27.550857   6.404617e+04           4.701015   \n",
       "std    16929.497605      6.033216   3.793111e+04           3.959784   \n",
       "min        0.000000     20.000000   4.200000e+03           0.000000   \n",
       "25%    14661.000000     23.000000   4.200000e+04           2.000000   \n",
       "50%    29322.000000     26.000000   5.800000e+04           4.000000   \n",
       "75%    43983.000000     30.000000   7.560000e+04           7.000000   \n",
       "max    58644.000000    123.000000   1.900000e+06         123.000000   \n",
       "\n",
       "          loan_amnt  loan_int_rate  loan_percent_income  \\\n",
       "count  58645.000000   58645.000000         58645.000000   \n",
       "mean    9217.556518      10.677874             0.159238   \n",
       "std     5563.807384       3.034697             0.091692   \n",
       "min      500.000000       5.420000             0.000000   \n",
       "25%     5000.000000       7.880000             0.090000   \n",
       "50%     8000.000000      10.750000             0.140000   \n",
       "75%    12000.000000      12.990000             0.210000   \n",
       "max    35000.000000      23.220000             0.830000   \n",
       "\n",
       "       cb_person_cred_hist_length   loan_status  \n",
       "count                58645.000000  58645.000000  \n",
       "mean                     5.813556      0.142382  \n",
       "std                      4.029196      0.349445  \n",
       "min                      2.000000      0.000000  \n",
       "25%                      3.000000      0.000000  \n",
       "50%                      4.000000      0.000000  \n",
       "75%                      8.000000      0.000000  \n",
       "max                     30.000000      1.000000  "
      ]
     },
     "execution_count": 6,
     "metadata": {},
     "output_type": "execute_result"
    }
   ],
   "source": [
    "df.describe()"
   ]
  },
  {
   "cell_type": "code",
   "execution_count": 7,
   "id": "b0dbb3e1-eb99-4c7d-baf7-f4d6eb6db187",
   "metadata": {},
   "outputs": [
    {
     "data": {
      "text/plain": [
       "id                                  5\n",
       "person_age                         27\n",
       "person_income                   45000\n",
       "person_home_ownership            RENT\n",
       "person_emp_length                 2.0\n",
       "loan_intent                   VENTURE\n",
       "loan_grade                          A\n",
       "loan_amnt                        9000\n",
       "loan_int_rate                    8.94\n",
       "loan_percent_income               0.2\n",
       "cb_person_default_on_file           N\n",
       "cb_person_cred_hist_length          5\n",
       "loan_status                         0\n",
       "Name: 5, dtype: object"
      ]
     },
     "execution_count": 7,
     "metadata": {},
     "output_type": "execute_result"
    }
   ],
   "source": [
    "df.loc[5]"
   ]
  },
  {
   "cell_type": "code",
   "execution_count": 8,
   "id": "9ccb56a3-f97c-4b72-b367-37faf8a78487",
   "metadata": {},
   "outputs": [
    {
     "data": {
      "text/plain": [
       "123"
      ]
     },
     "execution_count": 8,
     "metadata": {},
     "output_type": "execute_result"
    }
   ],
   "source": [
    "df.person_age.max()"
   ]
  },
  {
   "cell_type": "code",
   "execution_count": 9,
   "id": "9ac7c0e7-8802-4f18-84f0-ec49d6748937",
   "metadata": {},
   "outputs": [
    {
     "data": {
      "text/plain": [
       "26.0"
      ]
     },
     "execution_count": 9,
     "metadata": {},
     "output_type": "execute_result"
    }
   ],
   "source": [
    "df.person_age.median()"
   ]
  },
  {
   "cell_type": "code",
   "execution_count": 10,
   "id": "af47fda0-8e95-496b-8356-3ee97fe8200a",
   "metadata": {},
   "outputs": [
    {
     "data": {
      "text/plain": [
       "person_age\n",
       "23     7726\n",
       "22     7051\n",
       "24     6395\n",
       "25     5067\n",
       "27     4450\n",
       "26     3874\n",
       "28     3707\n",
       "29     3270\n",
       "30     2333\n",
       "31     1917\n",
       "21     1795\n",
       "32     1565\n",
       "33     1306\n",
       "36     1117\n",
       "34     1041\n",
       "37      992\n",
       "35      862\n",
       "38      745\n",
       "39      536\n",
       "40      438\n",
       "41      433\n",
       "43      320\n",
       "42      291\n",
       "44      229\n",
       "46      164\n",
       "45      163\n",
       "47      125\n",
       "48       97\n",
       "53       75\n",
       "51       69\n",
       "50       63\n",
       "52       62\n",
       "54       60\n",
       "49       59\n",
       "58       35\n",
       "55       34\n",
       "56       29\n",
       "60       28\n",
       "57       25\n",
       "65       13\n",
       "61       13\n",
       "20       12\n",
       "66       11\n",
       "64       10\n",
       "70       10\n",
       "62        7\n",
       "69        6\n",
       "59        6\n",
       "73        3\n",
       "84        2\n",
       "80        2\n",
       "76        1\n",
       "123       1\n",
       "Name: count, dtype: int64"
      ]
     },
     "execution_count": 10,
     "metadata": {},
     "output_type": "execute_result"
    }
   ],
   "source": [
    "df.person_age.value_counts()"
   ]
  },
  {
   "cell_type": "code",
   "execution_count": 11,
   "id": "bd5df6e1-ff29-4cc9-8638-57e5375c084f",
   "metadata": {},
   "outputs": [
    {
     "data": {
      "text/plain": [
       "person_home_ownership\n",
       "RENT        30594\n",
       "MORTGAGE    24824\n",
       "OWN          3138\n",
       "OTHER          89\n",
       "Name: count, dtype: int64"
      ]
     },
     "execution_count": 11,
     "metadata": {},
     "output_type": "execute_result"
    }
   ],
   "source": [
    "df.person_home_ownership.value_counts()"
   ]
  },
  {
   "cell_type": "code",
   "execution_count": 12,
   "id": "aed95dd8-7378-4996-8488-b4c78ae808c7",
   "metadata": {},
   "outputs": [],
   "source": [
    "#find outliers "
   ]
  },
  {
   "cell_type": "code",
   "execution_count": 13,
   "id": "4d9c62a9-d729-44ed-b304-1ae48e4921a5",
   "metadata": {},
   "outputs": [
    {
     "data": {
      "text/plain": [
       "<Axes: xlabel='person_age', ylabel='person_home_ownership'>"
      ]
     },
     "execution_count": 13,
     "metadata": {},
     "output_type": "execute_result"
    },
    {
     "data": {
      "image/png": "[encoded data removed]",
      "text/plain": [
       "<Figure size 640x480 with 1 Axes>"
      ]
     },
     "metadata": {},
     "output_type": "display_data"
    }
   ],
   "source": [
    "sns.boxplot(data=df,x=df['person_age'],y=df['person_home_ownership'],color='r')\n"
   ]
  },
  {
   "cell_type": "code",
   "execution_count": 14,
   "id": "e8fc7953-1630-4cae-9ee6-d0334cb3e6b0",
   "metadata": {},
   "outputs": [
    {
     "data": {
      "text/plain": [
       "'This boxplot showcases the distribution of age when it comes to home ownership. We can see that across all categories the median age for individuals is between 20s and 30s, indicating most people in this dataset qualify as young adults. \\nAll the boxes of the boxplot are quite narrow implying that most people in each category are clustered around the same age. The outliers represent the much older population from the dataset. In conclusion there isnt a big difference between age groups when it comes to renting,owning, mortgaging or any other methods, all the groups seem to have similar central tendencies.'"
      ]
     },
     "execution_count": 14,
     "metadata": {},
     "output_type": "execute_result"
    }
   ],
   "source": [
    "'''This boxplot showcases the distribution of age when it comes to home ownership. We can see that across all categories the median age for individuals is between 20s and 30s, indicating most people in this dataset qualify as young adults. \n",
    "All the boxes of the boxplot are quite narrow implying that most people in each category are clustered around the same age. The outliers represent the much older population from the dataset. In conclusion there isnt a big difference between age groups when it comes to renting,owning, mortgaging or any other methods, all the groups seem to have similar central tendencies.'''"
   ]
  },
  {
   "cell_type": "code",
   "execution_count": 15,
   "id": "10acfec9-f3c2-4afa-a2ae-20ee16627a81",
   "metadata": {},
   "outputs": [
    {
     "data": {
      "text/plain": [
       "<Axes: xlabel='loan_amnt', ylabel='loan_intent'>"
      ]
     },
     "execution_count": 15,
     "metadata": {},
     "output_type": "execute_result"
    },
    {
     "data": {
      "image/png": "[encoded data removed]",
      "text/plain": [
       "<Figure size 640x480 with 1 Axes>"
      ]
     },
     "metadata": {},
     "output_type": "display_data"
    }
   ],
   "source": [
    "sns.boxplot(data=df, y= df['loan_intent'],x=df['loan_amnt'],color='b')"
   ]
  },
  {
   "cell_type": "code",
   "execution_count": 16,
   "id": "3348577b-298c-40d7-a0ad-1b640a259eb9",
   "metadata": {},
   "outputs": [],
   "source": [
    "#Here we look at loan intent and loan amount. The median loan amount across all categories are mostly similar.Home Improvements have a slightly higher median than the others. Each category also includes outliers representing individuals who borrowed a higher amount than the median range. The IQR boxes are fairly simmilar among the different categories, not showing extreme variation in loan sizes. Overall loan amounts are relatively consistent around 10,000 to 15,000."
   ]
  },
  {
   "cell_type": "code",
   "execution_count": 17,
   "id": "da71b6a3-e306-48de-927d-4b5f659d6cf0",
   "metadata": {},
   "outputs": [],
   "source": [
    "x = df.drop('loan_status',axis=1)\n",
    "y= df.loan_status"
   ]
  },
  {
   "cell_type": "code",
   "execution_count": 18,
   "id": "6892f2a5-6f11-4025-90ff-57246f5c45c8",
   "metadata": {},
   "outputs": [],
   "source": [
    "from sklearn.model_selection import train_test_split\n",
    "from sklearn.preprocessing import Normalizer\n",
    "x_train,x_test,y_train,y_test = train_test_split(x,y,test_size=0.2,random_state=42)\n"
   ]
  },
  {
   "cell_type": "code",
   "execution_count": 19,
   "id": "9156be90-a66e-4036-b3b6-93170a1ab2fb",
   "metadata": {},
   "outputs": [],
   "source": [
    "from sklearn.preprocessing import OneHotEncoder"
   ]
  },
  {
   "cell_type": "code",
   "execution_count": 20,
   "id": "d986200c-4fdc-453c-b44e-9c2c62e8fc47",
   "metadata": {},
   "outputs": [],
   "source": [
    "encoder = OneHotEncoder(sparse_output=False,handle_unknown='ignore')\n",
    "x_train_cat = encoder.fit_transform(x_train.select_dtypes(include='object'))\n",
    "x_test_cat = encoder.transform(x_test.select_dtypes(include='object'))\n"
   ]
  },
  {
   "cell_type": "code",
   "execution_count": 21,
   "id": "571ed3ef-1edc-4021-b685-3fd073bc829d",
   "metadata": {},
   "outputs": [],
   "source": [
    "scaler = Normalizer()\n",
    "x_train_num = scaler.fit_transform(x_train.select_dtypes(include=['float64','int64']))\n",
    "x_test_num = scaler.transform(x_test.select_dtypes(include=['float64','int64']))\n"
   ]
  },
  {
   "cell_type": "code",
   "execution_count": 22,
   "id": "e5a51cf3-a355-4a05-9c2b-dab5c7451240",
   "metadata": {},
   "outputs": [],
   "source": [
    "x_train = np.hstack([x_train_cat,x_train_num])\n",
    "x_test = np.hstack([x_test_cat,x_test_num])"
   ]
  },
  {
   "cell_type": "code",
   "execution_count": 23,
   "id": "3ba350a3-efc0-4897-86e6-4d8aaa1518de",
   "metadata": {},
   "outputs": [],
   "source": [
    "from sklearn.linear_model import LogisticRegression\n",
    "from sklearn.metrics import accuracy_score, precision_score, recall_score, f1_score, confusion_matrix, classification_report\n",
    "from sklearn.ensemble import RandomForestClassifier, GradientBoostingClassifier\n",
    "#from xgboost import XGBClassifier,'XGB Classifier': XGBClassifier(use_label_encoder=False,eval_metric = 'logloss')\n",
    "from sklearn.neural_network import MLPClassifier"
   ]
  },
  {
   "cell_type": "code",
   "execution_count": 38,
   "id": "94c2c2e8-53d5-4e40-9b8c-bc19f999d508",
   "metadata": {},
   "outputs": [
    {
     "name": "stdout",
     "output_type": "stream",
     "text": [
      "Accuracy: 0.934350754540029 \n",
      " Precision 0.8036211699164345 \n",
      " Recall 0.702801461632156 \n",
      " f1_score 0.7498375568551007 \n",
      " Confusion Matrix: [[9805  282]\n",
      " [ 488 1154]] \n",
      " Classification Report:               precision    recall  f1-score   support\n",
      "\n",
      "           0       0.95      0.97      0.96     10087\n",
      "           1       0.80      0.70      0.75      1642\n",
      "\n",
      "    accuracy                           0.93     11729\n",
      "   macro avg       0.88      0.84      0.86     11729\n",
      "weighted avg       0.93      0.93      0.93     11729\n",
      "\n"
     ]
    },
    {
     "name": "stderr",
     "output_type": "stream",
     "text": [
      "C:\\Users\\cathy\\anaconda3\\Lib\\site-packages\\sklearn\\neural_network\\_multilayer_perceptron.py:546: ConvergenceWarning: lbfgs failed to converge (status=1):\n",
      "STOP: TOTAL NO. of ITERATIONS REACHED LIMIT.\n",
      "\n",
      "Increase the number of iterations (max_iter) or scale the data as shown in:\n",
      "    https://scikit-learn.org/stable/modules/preprocessing.html\n",
      "  self.n_iter_ = _check_optimize_result(\"lbfgs\", opt_res, self.max_iter)\n"
     ]
    }
   ],
   "source": [
    "models = {'Logistic Regression': LogisticRegression(penalty='l2',solver='saga'),'Random Forest Classifier' : RandomForestClassifier(n_estimators=100),'Gradient Boosting Classifier': GradientBoostingClassifier(),'MLP Classifier': MLPClassifier(solver='lbfgs', alpha=1e-5, hidden_layer_sizes=(5, 2))}\n",
    "for n,m in models.items():\n",
    "    m.fit(x_train,y_train)\n",
    "    y_pred = m.predict(x_test)\n",
    "accuracy = accuracy_score(y_test,y_pred)\n",
    "precision = precision_score(y_test,y_pred)\n",
    "recall = recall_score(y_test,y_pred)\n",
    "f1 = f1_score(y_test,y_pred)\n",
    "confusion = confusion_matrix(y_test,y_pred)\n",
    "classification = classification_report(y_test,y_pred)\n",
    "print('Accuracy:',accuracy,'\\n','Precision', precision, '\\n', 'Recall', recall, '\\n', 'f1_score', f1, '\\n', 'Confusion Matrix:',confusion ,'\\n','Classification Report:', classification)"
   ]
  },
  {
   "cell_type": "code",
   "execution_count": 40,
   "id": "a60ce3a6-46be-4a1c-856b-15ad97461b04",
   "metadata": {},
   "outputs": [
    {
     "name": "stdout",
     "output_type": "stream",
     "text": [
      "✅ .gitignore file created/updated.\n",
      "\n",
      "📂 Files ready to commit:\n"
     ]
    },
    {
     "data": {
      "text/plain": [
       "0"
      ]
     },
     "execution_count": 40,
     "metadata": {},
     "output_type": "execute_result"
    }
   ],
   "source": [
    "import os\n",
    "from pathlib import Path\n",
    "\n",
    "# 1️⃣ Create a proper .gitignore if it doesn't exist\n",
    "gitignore_content = \"\"\"\n",
    "# --- Python cache / logs ---\n",
    "__pycache__/\n",
    "*.py[cod]\n",
    "*.log\n",
    "*.tmp\n",
    "*.DS_Store\n",
    "\n",
    "# --- Jupyter checkpoint folders ---\n",
    ".ipynb_checkpoints/\n",
    "\n",
    "# --- MLflow experiment tracking ---\n",
    "mlruns/\n",
    "\n",
    "# --- Virtual environments ---\n",
    "venv/\n",
    ".env/\n",
    ".env*/\n",
    "\n",
    "# --- Miscellaneous ---\n",
    "*.sqlite\n",
    "*.db\n",
    "*.csv~\n",
    "*.bak\n",
    "*.swp\n",
    "\"\"\"\n",
    "\n",
    "with open(\".gitignore\", \"w\") as f:\n",
    "    f.write(gitignore_content.strip() + \"\\n\")\n",
    "\n",
    "print(\"✅ .gitignore file created/updated.\\n\")\n",
    "\n",
    "# 2️⃣ Remove unwanted files from git index if they were already tracked\n",
    "os.system(\"git rm -r --cached mlruns .ipynb_checkpoints 2>nul\")\n",
    "\n",
    "# 3️⃣ Stage everything else cleanly\n",
    "os.system(\"git add .\")\n",
    "\n",
    "# 4️⃣ Show what will be committed\n",
    "print(\"📂 Files ready to commit:\")\n",
    "os.system(\"git status --short\")\n"
   ]
  },
  {
   "cell_type": "code",
   "execution_count": null,
   "id": "ffe07a99-1d0e-48b3-b68a-09ef528eb462",
   "metadata": {},
   "outputs": [],
   "source": []
  }
 ],
 "metadata": {
  "kernelspec": {
   "display_name": "Python 3 (ipykernel)",
   "language": "python",
   "name": "python3"
  },
  "language_info": {
   "codemirror_mode": {
    "name": "ipython",
    "version": 3
   },
   "file_extension": ".py",
   "mimetype": "text/x-python",
   "name": "python",
   "nbconvert_exporter": "python",
   "pygments_lexer": "ipython3",
   "version": "3.12.4"
  }
 },
 "nbformat": 4,
 "nbformat_minor": 5
}
