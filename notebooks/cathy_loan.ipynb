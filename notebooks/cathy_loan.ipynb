{
 "cells": [
  {
   "cell_type": "code",
   "execution_count": 86,
   "id": "758e8da4-0aca-43b9-966d-fb118d7c7c5a",
   "metadata": {},
   "outputs": [],
   "source": [
    "#Import Statements"
   ]
  },
  {
   "cell_type": "code",
   "execution_count": 121,
   "id": "ed89189a-8759-45f2-a34e-87b9d1c2126c",
   "metadata": {},
   "outputs": [],
   "source": [
    "import pandas as pd\n",
    "import numpy as np\n",
    "import matplotlib.pyplot as plt\n",
    "import sklearn\n",
    "import seaborn as sns\n",
    "import math"
   ]
  },
  {
   "cell_type": "code",
   "execution_count": null,
   "id": "e12ba403-aa00-40a0-90ee-71a81387ce2c",
   "metadata": {},
   "outputs": [],
   "source": [
    "#Exploratory Data Analysis "
   ]
  },
  {
   "cell_type": "code",
   "execution_count": 90,
   "id": "01062118-2bb8-4fe6-b2f4-e1aab77359e9",
   "metadata": {},
   "outputs": [
    {
     "data": {
      "text/html": [
       "<div>\n",
       "<style scoped>\n",
       "    .dataframe tbody tr th:only-of-type {\n",
       "        vertical-align: middle;\n",
       "    }\n",
       "\n",
       "    .dataframe tbody tr th {\n",
       "        vertical-align: top;\n",
       "    }\n",
       "\n",
       "    .dataframe thead th {\n",
       "        text-align: right;\n",
       "    }\n",
       "</style>\n",
       "<table border=\"1\" class=\"dataframe\">\n",
       "  <thead>\n",
       "    <tr style=\"text-align: right;\">\n",
       "      <th></th>\n",
       "      <th>id</th>\n",
       "      <th>person_age</th>\n",
       "      <th>person_income</th>\n",
       "      <th>person_home_ownership</th>\n",
       "      <th>person_emp_length</th>\n",
       "      <th>loan_intent</th>\n",
       "      <th>loan_grade</th>\n",
       "      <th>loan_amnt</th>\n",
       "      <th>loan_int_rate</th>\n",
       "      <th>loan_percent_income</th>\n",
       "      <th>cb_person_default_on_file</th>\n",
       "      <th>cb_person_cred_hist_length</th>\n",
       "      <th>loan_status</th>\n",
       "    </tr>\n",
       "  </thead>\n",
       "  <tbody>\n",
       "    <tr>\n",
       "      <th>0</th>\n",
       "      <td>0</td>\n",
       "      <td>37</td>\n",
       "      <td>35000</td>\n",
       "      <td>RENT</td>\n",
       "      <td>0.0</td>\n",
       "      <td>EDUCATION</td>\n",
       "      <td>B</td>\n",
       "      <td>6000</td>\n",
       "      <td>11.49</td>\n",
       "      <td>0.17</td>\n",
       "      <td>N</td>\n",
       "      <td>14</td>\n",
       "      <td>0</td>\n",
       "    </tr>\n",
       "    <tr>\n",
       "      <th>1</th>\n",
       "      <td>1</td>\n",
       "      <td>22</td>\n",
       "      <td>56000</td>\n",
       "      <td>OWN</td>\n",
       "      <td>6.0</td>\n",
       "      <td>MEDICAL</td>\n",
       "      <td>C</td>\n",
       "      <td>4000</td>\n",
       "      <td>13.35</td>\n",
       "      <td>0.07</td>\n",
       "      <td>N</td>\n",
       "      <td>2</td>\n",
       "      <td>0</td>\n",
       "    </tr>\n",
       "    <tr>\n",
       "      <th>2</th>\n",
       "      <td>2</td>\n",
       "      <td>29</td>\n",
       "      <td>28800</td>\n",
       "      <td>OWN</td>\n",
       "      <td>8.0</td>\n",
       "      <td>PERSONAL</td>\n",
       "      <td>A</td>\n",
       "      <td>6000</td>\n",
       "      <td>8.90</td>\n",
       "      <td>0.21</td>\n",
       "      <td>N</td>\n",
       "      <td>10</td>\n",
       "      <td>0</td>\n",
       "    </tr>\n",
       "  </tbody>\n",
       "</table>\n",
       "</div>"
      ],
      "text/plain": [
       "   id  person_age  person_income person_home_ownership  person_emp_length  \\\n",
       "0   0          37          35000                  RENT                0.0   \n",
       "1   1          22          56000                   OWN                6.0   \n",
       "2   2          29          28800                   OWN                8.0   \n",
       "\n",
       "  loan_intent loan_grade  loan_amnt  loan_int_rate  loan_percent_income  \\\n",
       "0   EDUCATION          B       6000          11.49                 0.17   \n",
       "1     MEDICAL          C       4000          13.35                 0.07   \n",
       "2    PERSONAL          A       6000           8.90                 0.21   \n",
       "\n",
       "  cb_person_default_on_file  cb_person_cred_hist_length  loan_status  \n",
       "0                         N                          14            0  \n",
       "1                         N                           2            0  \n",
       "2                         N                          10            0  "
      ]
     },
     "execution_count": 90,
     "metadata": {},
     "output_type": "execute_result"
    }
   ],
   "source": [
    "df = pd.read_csv('../data/train.csv')\n",
    "df.head(3)"
   ]
  },
  {
   "cell_type": "code",
   "execution_count": null,
   "id": "cbca2da6-29dc-47c1-91b1-d6bd99485878",
   "metadata": {},
   "outputs": [],
   "source": [
    "df.info()"
   ]
  },
  {
   "cell_type": "code",
   "execution_count": null,
   "id": "5c9babfa-7fde-4125-a409-511a920799b7",
   "metadata": {},
   "outputs": [],
   "source": [
    "df.shape"
   ]
  },
  {
   "cell_type": "code",
   "execution_count": null,
   "id": "56ba1c68-1b15-4ead-8900-c5f385707c2e",
   "metadata": {},
   "outputs": [],
   "source": [
    "df.isna().sum()"
   ]
  },
  {
   "cell_type": "code",
   "execution_count": null,
   "id": "11235462-0430-4c95-bf4b-0f029eed6a77",
   "metadata": {},
   "outputs": [],
   "source": [
    "df.duplicated().sum()"
   ]
  },
  {
   "cell_type": "code",
   "execution_count": null,
   "id": "9810b4f6-2955-4d00-95a1-1b06314c1149",
   "metadata": {},
   "outputs": [],
   "source": [
    "df.describe()"
   ]
  },
  {
   "cell_type": "code",
   "execution_count": null,
   "id": "b0dbb3e1-eb99-4c7d-baf7-f4d6eb6db187",
   "metadata": {},
   "outputs": [],
   "source": [
    "df.loc[5]"
   ]
  },
  {
   "cell_type": "code",
   "execution_count": null,
   "id": "9ccb56a3-f97c-4b72-b367-37faf8a78487",
   "metadata": {},
   "outputs": [],
   "source": [
    "df.person_age.max()"
   ]
  },
  {
   "cell_type": "code",
   "execution_count": null,
   "id": "9ac7c0e7-8802-4f18-84f0-ec49d6748937",
   "metadata": {},
   "outputs": [],
   "source": [
    "df.person_age.median()"
   ]
  },
  {
   "cell_type": "code",
   "execution_count": null,
   "id": "af47fda0-8e95-496b-8356-3ee97fe8200a",
   "metadata": {},
   "outputs": [],
   "source": [
    "df.person_age.value_counts()"
   ]
  },
  {
   "cell_type": "code",
   "execution_count": null,
   "id": "198e9b3b-6850-4eb6-a7c6-cdb7cb0dd3e2",
   "metadata": {},
   "outputs": [],
   "source": [
    "sns.histplot(data=df, hue=df.loan_intent, x=df.loan_int_rate)"
   ]
  },
  {
   "cell_type": "code",
   "execution_count": null,
   "id": "9d10c574-287b-4746-aeab-7bccbc4e9068",
   "metadata": {},
   "outputs": [],
   "source": [
    "sns.histplot(data=df, x=df.person_income,bins=50,binwidth=5,kde=True)\n"
   ]
  },
  {
   "cell_type": "code",
   "execution_count": 159,
   "id": "60f93ffa-79f6-42e8-bd31-3f7eca48f6d9",
   "metadata": {},
   "outputs": [
    {
     "name": "stdout",
     "output_type": "stream",
     "text": [
      "58000.0\n"
     ]
    },
    {
     "data": {
      "text/plain": [
       "<Axes: xlabel='person_income', ylabel='person_age'>"
      ]
     },
     "execution_count": 159,
     "metadata": {},
     "output_type": "execute_result"
    },
    {
     "data": {
      "image/png": "[encoded data removed]",
      "text/plain": [
       "<Figure size 640x480 with 1 Axes>"
      ]
     },
     "metadata": {},
     "output_type": "display_data"
    }
   ],
   "source": [
    "print(df.person_income.median())\n",
    "sns.histplot(data=df, x=df.person_income,y=num_cols.person_age,bins=50,cmap='coolwarm')\n"
   ]
  },
  {
   "cell_type": "code",
   "execution_count": 106,
   "id": "bd5df6e1-ff29-4cc9-8638-57e5375c084f",
   "metadata": {},
   "outputs": [
    {
     "data": {
      "text/plain": [
       "person_home_ownership\n",
       "RENT        30594\n",
       "MORTGAGE    24824\n",
       "OWN          3138\n",
       "OTHER          89\n",
       "Name: count, dtype: int64"
      ]
     },
     "execution_count": 106,
     "metadata": {},
     "output_type": "execute_result"
    }
   ],
   "source": [
    "df.person_home_ownership.value_counts()"
   ]
  },
  {
   "cell_type": "code",
   "execution_count": null,
   "id": "aed95dd8-7378-4996-8488-b4c78ae808c7",
   "metadata": {},
   "outputs": [],
   "source": [
    "#find outliers "
   ]
  },
  {
   "cell_type": "code",
   "execution_count": null,
   "id": "4d9c62a9-d729-44ed-b304-1ae48e4921a5",
   "metadata": {},
   "outputs": [],
   "source": [
    "sns.boxplot(data=df,x=df['person_age'],y=df['person_home_ownership'],color='r')\n"
   ]
  },
  {
   "cell_type": "code",
   "execution_count": null,
   "id": "e8fc7953-1630-4cae-9ee6-d0334cb3e6b0",
   "metadata": {},
   "outputs": [],
   "source": [
    "'''This boxplot showcases the distribution of age when it comes to home ownership. We can see that across all categories the median age for individuals is between 20s and 30s, indicating most people in this dataset qualify as young adults. \n",
    "All the boxes of the boxplot are quite narrow implying that most people in each category are clustered around the same age. The outliers represent the much older population from the dataset. In conclusion there isnt a big difference between age groups when it comes to renting,owning, mortgaging or any other methods, all the groups seem to have similar central tendencies.'''"
   ]
  },
  {
   "cell_type": "code",
   "execution_count": null,
   "id": "10acfec9-f3c2-4afa-a2ae-20ee16627a81",
   "metadata": {},
   "outputs": [],
   "source": [
    "sns.boxplot(data=df, y= df['loan_intent'],x=df['loan_amnt'],color='b')"
   ]
  },
  {
   "cell_type": "code",
   "execution_count": null,
   "id": "3348577b-298c-40d7-a0ad-1b640a259eb9",
   "metadata": {},
   "outputs": [],
   "source": [
    "#Here we look at loan intent and loan amount. The median loan amount across all categories are mostly similar.Home Improvements have a slightly higher median than the others. Each category also includes outliers representing individuals who borrowed a higher amount than the median range. The IQR boxes are fairly simmilar among the different categories, not showing extreme variation in loan sizes. Overall loan amounts are relatively consistent around 10,000 to 15,000."
   ]
  },
  {
   "cell_type": "code",
   "execution_count": null,
   "id": "da71b6a3-e306-48de-927d-4b5f659d6cf0",
   "metadata": {},
   "outputs": [],
   "source": [
    "x = df.drop('loan_status',axis=1)\n",
    "y= df.loan_status"
   ]
  },
  {
   "cell_type": "code",
   "execution_count": null,
   "id": "6892f2a5-6f11-4025-90ff-57246f5c45c8",
   "metadata": {},
   "outputs": [],
   "source": [
    "from sklearn.model_selection import train_test_split\n",
    "from sklearn.preprocessing import Normalizer\n",
    "x_train,x_test,y_train,y_test = train_test_split(x,y,test_size=0.2,random_state=42)\n"
   ]
  },
  {
   "cell_type": "code",
   "execution_count": null,
   "id": "9156be90-a66e-4036-b3b6-93170a1ab2fb",
   "metadata": {},
   "outputs": [],
   "source": [
    "from sklearn.preprocessing import OneHotEncoder"
   ]
  },
  {
   "cell_type": "code",
   "execution_count": null,
   "id": "d986200c-4fdc-453c-b44e-9c2c62e8fc47",
   "metadata": {},
   "outputs": [],
   "source": [
    "encoder = OneHotEncoder(sparse_output=False,handle_unknown='ignore')\n",
    "x_train_cat = encoder.fit_transform(x_train.select_dtypes(include='object'))\n",
    "x_test_cat = encoder.transform(x_test.select_dtypes(include='object'))\n"
   ]
  },
  {
   "cell_type": "code",
   "execution_count": null,
   "id": "571ed3ef-1edc-4021-b685-3fd073bc829d",
   "metadata": {},
   "outputs": [],
   "source": [
    "scaler = Normalizer()\n",
    "x_train_num = scaler.fit_transform(x_train.select_dtypes(include=['float64','int64']))\n",
    "x_test_num = scaler.transform(x_test.select_dtypes(include=['float64','int64']))\n"
   ]
  },
  {
   "cell_type": "code",
   "execution_count": null,
   "id": "e5a51cf3-a355-4a05-9c2b-dab5c7451240",
   "metadata": {},
   "outputs": [],
   "source": [
    "x_train = np.hstack([x_train_cat,x_train_num])\n",
    "x_test = np.hstack([x_test_cat,x_test_num])"
   ]
  },
  {
   "cell_type": "code",
   "execution_count": null,
   "id": "3ba350a3-efc0-4897-86e6-4d8aaa1518de",
   "metadata": {},
   "outputs": [],
   "source": [
    "from sklearn.linear_model import LogisticRegression\n",
    "from sklearn.metrics import accuracy_score, precision_score, recall_score, f1_score, confusion_matrix, classification_report\n",
    "from sklearn.ensemble import RandomForestClassifier, GradientBoostingClassifier\n",
    "#from xgboost import XGBClassifier,'XGB Classifier': XGBClassifier(use_label_encoder=False,eval_metric = 'logloss')\n",
    "from sklearn.neural_network import MLPClassifier"
   ]
  },
  {
   "cell_type": "code",
   "execution_count": null,
   "id": "94c2c2e8-53d5-4e40-9b8c-bc19f999d508",
   "metadata": {},
   "outputs": [],
   "source": [
    "models = {'Logistic Regression': LogisticRegression(penalty='l2',solver='saga'),'Random Forest Classifier' : RandomForestClassifier(n_estimators=100),'Gradient Boosting Classifier': GradientBoostingClassifier(),'MLP Classifier': MLPClassifier(solver='lbfgs', alpha=1e-5, hidden_layer_sizes=(5, 2))}\n",
    "for n,m in models.items():\n",
    "    m.fit(x_train,y_train)\n",
    "    y_pred = m.predict(x_test)\n",
    "accuracy = accuracy_score(y_test,y_pred)\n",
    "precision = precision_score(y_test,y_pred)\n",
    "recall = recall_score(y_test,y_pred)\n",
    "f1 = f1_score(y_test,y_pred)\n",
    "confusion = confusion_matrix(y_test,y_pred)\n",
    "classification = classification_report(y_test,y_pred)\n",
    "print('Accuracy:',accuracy,'\\n','Precision', precision, '\\n', 'Recall', recall, '\\n', 'f1_score', f1, '\\n', 'Confusion Matrix:',confusion ,'\\n','Classification Report:', classification)"
   ]
  },
  {
   "cell_type": "markdown",
   "id": "1b5bf21b-1ab3-48d8-84c7-88a5824fed39",
   "metadata": {},
   "source": [
    "import os\n",
    "from pathlib import Path\n",
    "\n",
    "# 1️⃣ Create a proper .gitignore if it doesn't exist\n",
    "gitignore_content = \"\"\"\n",
    "# --- Python cache / logs ---\n",
    "__pycache__/\n",
    "*.py[cod]\n",
    "*.log\n",
    "*.tmp\n",
    "*.DS_Store\n",
    "\n",
    "# --- Jupyter checkpoint folders ---\n",
    ".ipynb_checkpoints/\n",
    "\n",
    "# --- MLflow experiment tracking ---\n",
    "mlruns/\n",
    "\n",
    "# --- Virtual environments ---\n",
    "venv/\n",
    ".env/\n",
    ".env*/\n",
    "\n",
    "# --- Miscellaneous ---\n",
    "*.sqlite\n",
    "*.db\n",
    "*.csv~\n",
    "*.bak\n",
    "*.swp\n",
    "\"\"\"\n",
    "\n",
    "with open(\".gitignore\", \"w\") as f:\n",
    "    f.write(gitignore_content.strip() + \"\\n\")\n",
    "\n",
    "print(\"✅ .gitignore file created/updated.\\n\")\n",
    "\n",
    "# 2️⃣ Remove unwanted files from git index if they were already tracked\n",
    "os.system(\"git rm -r --cached mlruns .ipynb_checkpoints 2>nul\")\n",
    "\n",
    "# 3️⃣ Stage everything else cleanly\n",
    "os.system(\"git add .\")\n",
    "\n",
    "# 4️⃣ Show what will be committed\n",
    "print(\"📂 Files ready to commit:\")\n",
    "os.system(\"git status --short\")\n"
   ]
  },
  {
   "cell_type": "code",
   "execution_count": null,
   "id": "ffe07a99-1d0e-48b3-b68a-09ef528eb462",
   "metadata": {},
   "outputs": [],
   "source": []
  }
 ],
 "metadata": {
  "kernelspec": {
   "display_name": "Python 3 (ipykernel)",
   "language": "python",
   "name": "python3"
  },
  "language_info": {
   "codemirror_mode": {
    "name": "ipython",
    "version": 3
   },
   "file_extension": ".py",
   "mimetype": "text/x-python",
   "name": "python",
   "nbconvert_exporter": "python",
   "pygments_lexer": "ipython3",
   "version": "3.12.4"
  }
 },
 "nbformat": 4,
 "nbformat_minor": 5
}
